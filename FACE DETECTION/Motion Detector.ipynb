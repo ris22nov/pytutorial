{
 "cells": [
  {
   "cell_type": "code",
   "execution_count": 1,
   "metadata": {},
   "outputs": [],
   "source": [
    "import cv2,time,pandas\n",
    "from datetime import datetime\n",
    "\n",
    "first_frame = None\n",
    "status_list=[None,None]\n",
    "times=[]\n",
    "df=pandas.DataFrame(columns=[\"Start\",\"End\"])\n",
    "\n",
    "video=cv2.VideoCapture(0)\n",
    "\n",
    "while True:\n",
    "    status = 0\n",
    "    check,frame = video.read()\n",
    "    gray_frame = cv2.cvtColor(frame,cv2.COLOR_BGR2GRAY)\n",
    "    blur_frame = cv2.GaussianBlur(gray_frame,(21,21),0)\n",
    "    \n",
    "    if first_frame is None:\n",
    "        first_frame = blur_frame\n",
    "        continue\n",
    "        \n",
    "    delta_frame = cv2.absdiff(first_frame,blur_frame)\n",
    "    thresh_frame = cv2.threshold(delta_frame,30,255,cv2.THRESH_BINARY)[1]\n",
    "    dilate_frame = cv2.dilate(thresh_frame, None, iterations = 5)\n",
    "    \n",
    "    (cnts,_) = cv2.findContours(dilate_frame.copy(),cv2.RETR_EXTERNAL,cv2.CHAIN_APPROX_SIMPLE)\n",
    "    \n",
    "    for contour in cnts:\n",
    "        if cv2.contourArea(contour) < 10000:\n",
    "            continue\n",
    "        status = 1\n",
    "        (x,y,w,h) = cv2.boundingRect(contour)\n",
    "        frame = cv2.rectangle(frame,(x,y),(x+w,y+h),(0,255,0),3)\n",
    "        \n",
    "    status_list.append(status)\n",
    "\n",
    "    status_list=status_list[-2:]\n",
    "\n",
    "\n",
    "    if status_list[-1]==1 and status_list[-2]==0:\n",
    "        times.append(datetime.now())\n",
    "    if status_list[-1]==0 and status_list[-2]==1:\n",
    "        times.append(datetime.now())  \n",
    "    \n",
    "    cv2.imshow(\"Motion Detection\",frame)\n",
    "    cv2.imshow(\"Delta Frame\",delta_frame)\n",
    "    cv2.imshow(\"Threshold Frame\",thresh_frame)\n",
    "    cv2.imshow(\"Dilated Frame\",dilate_frame)\n",
    "    cv2.imshow(\"Masked Frame\",fgmask)\n",
    "    \n",
    "    \n",
    "    key = cv2.waitKey(1)\n",
    "    if key == ord('q'):\n",
    "        break\n",
    "        \n",
    "for i in range(0,len(times),2):\n",
    "    df=df.append({\"Start\":times[i],\"End\":times[i+1]},ignore_index=True)\n",
    "\n",
    "df.to_csv(\"Times.csv\")\n",
    "\n",
    "video.release()\n",
    "cv2.destroyAllWindows()"
   ]
  },
  {
   "cell_type": "code",
   "execution_count": null,
   "metadata": {},
   "outputs": [],
   "source": []
  },
  {
   "cell_type": "code",
   "execution_count": null,
   "metadata": {},
   "outputs": [],
   "source": []
  }
 ],
 "metadata": {
  "kernelspec": {
   "display_name": "Python 3",
   "language": "python",
   "name": "python3"
  },
  "language_info": {
   "codemirror_mode": {
    "name": "ipython",
    "version": 3
   },
   "file_extension": ".py",
   "mimetype": "text/x-python",
   "name": "python",
   "nbconvert_exporter": "python",
   "pygments_lexer": "ipython3",
   "version": "3.7.6"
  }
 },
 "nbformat": 4,
 "nbformat_minor": 4
}

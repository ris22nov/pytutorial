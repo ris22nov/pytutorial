{
 "cells": [
  {
   "cell_type": "code",
   "execution_count": 1,
   "metadata": {},
   "outputs": [],
   "source": [
    "def factorial(n):\n",
    "    if n == 1:\n",
    "        return 1\n",
    "    return n*factorial(n-1)"
   ]
  },
  {
   "cell_type": "code",
   "execution_count": 5,
   "metadata": {},
   "outputs": [
    {
     "data": {
      "text/plain": [
       "24"
      ]
     },
     "execution_count": 5,
     "metadata": {},
     "output_type": "execute_result"
    }
   ],
   "source": [
    "factorial(4)"
   ]
  },
  {
   "cell_type": "code",
   "execution_count": null,
   "metadata": {},
   "outputs": [
    {
     "name": "stdout",
     "output_type": "stream",
     "text": [
      "Welcome to Pi Calculator. In the shell below Enter the number of digits upto which the value of Pi should be calculated or enter quit to exit\n",
      ">>> 100\n",
      "3.1415926535896749618344472523936367445289018303831227095206649458770837381153457373282472370877155750\n",
      ">>> 200\n",
      "3.14159265358967496183444725239363674452890183038312270952066494587708373811534573732824723708771557508789559035408955745142074846387226275451312951707902215152156473543784996162920241729609764708062268\n",
      ">>> 300\n",
      "3.141592653589674961834447252393636744528901830383122709520664945877083738115345737328247237087715575087895590354089557451420748463872262754513129517079022151521564735437849961629202417296097647080622686389129194620468192682509450070263565500455734618027665438090599140140123098692625288272357214559454\n",
      ">>> 1000\n"
     ]
    }
   ],
   "source": [
    "from __future__ import print_function\n",
    "import math, sys\n",
    "from decimal import *\n",
    "getcontext().rounding = ROUND_FLOOR\n",
    "sys.setrecursionlimit(100000)\n",
    "\n",
    "python2 = sys.version_info[0] == 2\n",
    "if python2:\n",
    "\tinput = raw_input\n",
    "\n",
    "def factorial(n):\n",
    "\t\"\"\"\n",
    "\tReturn the Factorial of a number using recursion\n",
    "\tParameters:\n",
    "\tn -- Number to get factorial of\n",
    "\t\"\"\"\n",
    "\tif not n:\n",
    "\t\treturn 1\n",
    "\treturn n*factorial(n-1)\n",
    "\n",
    "\n",
    "def getIteratedValue(k):\n",
    "\t\"\"\"\n",
    "\tReturn the Iterations as given in the Chudnovsky Algorithm.\n",
    "\tk iterations gives k-1 decimal places.. Since we need k decimal places\n",
    "\tmake iterations equal to k+1\n",
    "\t\n",
    "\tParameters:\n",
    "\tk  -- Number of Decimal Digits to get\n",
    "\t\"\"\"\n",
    "\tk = k+1\n",
    "\tgetcontext().prec = k\n",
    "\tsum=0\n",
    "\tfor k in range(k):\n",
    "\t\tfirst = factorial(6*k)*(13591409+545140134*k)\n",
    "\t\tdown = factorial(3*k)*(factorial(k))**3*(640320**(3*k))\n",
    "\t\tsum += first/down \n",
    "\treturn Decimal(sum) \n",
    "\n",
    "def getValueOfPi(k):\n",
    "\t\"\"\"\n",
    "\tReturns the calculated value of Pi using the iterated value of the loop\n",
    "\tand some division as given in the Chudnovsky Algorithm\n",
    "\tParameters:\n",
    "\tk -- Number of Decimal Digits upto which the value of Pi should be calculated\n",
    "\t\"\"\"\n",
    "\titer = getIteratedValue(k)\n",
    "\tup = 426880*math.sqrt(10005)\n",
    "\tpi = Decimal(up)/iter \n",
    "\t\n",
    "\treturn pi\n",
    "\n",
    "def shell():\n",
    "\t\"\"\"\n",
    "\tConsole Function to create the interactive Shell.\n",
    "\tRuns only when __name__ == __main__ that is when the script is being called directly\n",
    "\tNo return value and Parameters\n",
    "\t\"\"\"\n",
    "\tprint (\"Welcome to Pi Calculator. In the shell below Enter the number of digits upto which the value of Pi should be calculated or enter quit to exit\")\n",
    "\n",
    "\twhile True:\n",
    "\t\tprint (\">>> \", end='')\n",
    "\t\tentry = input()\n",
    "\t\tif entry == \"quit\":\n",
    "\t\t\tbreak\n",
    "\t\tif not entry.isdigit():\n",
    "\t\t\tprint (\"You did not enter a number. Try again\")\n",
    "\t\telse:\n",
    "\t\t\tprint (getValueOfPi(int(entry)))\n",
    "\n",
    "if __name__=='__main__':\n",
    "\tshell()"
   ]
  },
  {
   "cell_type": "code",
   "execution_count": null,
   "metadata": {},
   "outputs": [],
   "source": []
  }
 ],
 "metadata": {
  "kernelspec": {
   "display_name": "Python 3",
   "language": "python",
   "name": "python3"
  },
  "language_info": {
   "codemirror_mode": {
    "name": "ipython",
    "version": 3
   },
   "file_extension": ".py",
   "mimetype": "text/x-python",
   "name": "python",
   "nbconvert_exporter": "python",
   "pygments_lexer": "ipython3",
   "version": "3.7.6"
  }
 },
 "nbformat": 4,
 "nbformat_minor": 4
}

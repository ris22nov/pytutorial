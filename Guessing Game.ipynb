{
 "cells": [
  {
   "cell_type": "code",
   "execution_count": 3,
   "metadata": {},
   "outputs": [
    {
     "name": "stdout",
     "output_type": "stream",
     "text": [
      "Guess a Number:56\n",
      "You are far\n",
      "Guess a Number:65\n",
      "You'r going wrong way\n",
      "Guess a Number:45\n",
      "Great you'r on correct path\n",
      "Guess a Number:55\n",
      "You'r going wrong way\n",
      "Guess a Number:35\n",
      "You'r going wrong way\n",
      "Guess a Number:44\n",
      "Great you'r on correct path\n",
      "Guess a Number:40\n",
      "You'r going wrong way\n",
      "Guess a Number:43\n",
      "Great you'r on correct path\n",
      "Guess a Number:42\n",
      "You'r going wrong way\n",
      "Guess a Number:44\n",
      "Great you'r on correct path\n",
      "Guess a Number:45\n",
      "Great you'r on correct path\n",
      "Guess a Number:46\n",
      "Yippee! you are correct..\n",
      "You guessed in 12 steps\n"
     ]
    }
   ],
   "source": [
    "import random\n",
    "\n",
    "randomnum = random.randint(1,100)\n",
    "\n",
    "guess = list()\n",
    "run_once = 0\n",
    "\n",
    "while True:\n",
    "    guessnum = int(input('Guess a Number:'))\n",
    "    \n",
    "    if run_once == 0:\n",
    "        diff = abs(guessnum-randomnum)\n",
    "        run_once = 1\n",
    "        \n",
    "    if guessnum < 1 or guessnum > 100:\n",
    "        print('OUT OF BOUND....\\nGUESS BETWEEN 1 TO 100')\n",
    "        \n",
    "    elif guessnum == randomnum:\n",
    "        print(f'Yippee! you are correct..\\nYou guessed in {len(guess)+1} steps')\n",
    "        break\n",
    "        \n",
    "    else:\n",
    "        guess.append(guessnum)\n",
    "        if len(guess) == 1:\n",
    "            if diff < 10:\n",
    "                print(\"You are near\")\n",
    "            else:\n",
    "                print(\"You are far\")\n",
    "        else:\n",
    "            if abs(guessnum - randomnum) < diff:\n",
    "                print(\"Great you'r on correct path\")\n",
    "                diff = abs(guessnum-randomnum)\n",
    "            else:\n",
    "                print(\"You'r going wrong way\")\n",
    "                diff = abs(guessnum-randomnum)  "
   ]
  },
  {
   "cell_type": "code",
   "execution_count": null,
   "metadata": {},
   "outputs": [],
   "source": []
  }
 ],
 "metadata": {
  "kernelspec": {
   "display_name": "Python 3",
   "language": "python",
   "name": "python3"
  },
  "language_info": {
   "codemirror_mode": {
    "name": "ipython",
    "version": 3
   },
   "file_extension": ".py",
   "mimetype": "text/x-python",
   "name": "python",
   "nbconvert_exporter": "python",
   "pygments_lexer": "ipython3",
   "version": "3.7.4"
  }
 },
 "nbformat": 4,
 "nbformat_minor": 2
}

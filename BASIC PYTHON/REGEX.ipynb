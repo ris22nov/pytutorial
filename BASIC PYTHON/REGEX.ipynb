{
 "cells": [
  {
   "cell_type": "markdown",
   "metadata": {},
   "source": [
    "## REGULAR EXPRESSION IN PYTHON"
   ]
  },
  {
   "cell_type": "markdown",
   "metadata": {},
   "source": [
    "### What is Regular Expression?\n",
    "\n",
    "Ans: A Regular Expression is special text string for desribing a search pattern"
   ]
  },
  {
   "cell_type": "code",
   "execution_count": 2,
   "metadata": {},
   "outputs": [],
   "source": [
    "import re"
   ]
  },
  {
   "cell_type": "code",
   "execution_count": 4,
   "metadata": {},
   "outputs": [
    {
     "data": {
      "text/plain": [
       "{'Janice': '22', 'Theon': '33', 'Gabriel': '44', 'Joey': '21'}"
      ]
     },
     "execution_count": 4,
     "metadata": {},
     "output_type": "execute_result"
    }
   ],
   "source": [
    "Nameage = '''Janice is 22 and Theon is 33\n",
    "             Gabriel is 44 and Joey is 21'''\n",
    "\n",
    "ages = re.findall(r'\\d{1,3}',Nameage)\n",
    "names = re.findall(r'[A-Z][a-z]*',Nameage)\n",
    "\n",
    "ageDict = {}\n",
    "x = 0\n",
    "\n",
    "for eachname in names:\n",
    "    ageDict[eachname] = ages[x]\n",
    "    x = x+1\n",
    "    \n",
    "ageDict"
   ]
  },
  {
   "cell_type": "code",
   "execution_count": 5,
   "metadata": {},
   "outputs": [
    {
     "name": "stdout",
     "output_type": "stream",
     "text": [
      "Inform is in the sentence\n"
     ]
    }
   ],
   "source": [
    "# Search for a word using Regular Expression\n",
    "\n",
    "import re\n",
    "\n",
    "if re.search('inform','We need to inform him about latest information'):\n",
    "    print('Inform is in the sentence')"
   ]
  },
  {
   "cell_type": "code",
   "execution_count": 8,
   "metadata": {},
   "outputs": [
    {
     "name": "stdout",
     "output_type": "stream",
     "text": [
      "inform\n",
      "inform\n"
     ]
    }
   ],
   "source": [
    "# Find All occurence of a Word\n",
    "\n",
    "import re\n",
    "\n",
    "all = re.findall('inform','We need to inform him about latest information')\n",
    "\n",
    "for i in all:\n",
    "    print(i)"
   ]
  },
  {
   "cell_type": "code",
   "execution_count": 11,
   "metadata": {},
   "outputs": [
    {
     "name": "stdout",
     "output_type": "stream",
     "text": [
      "(11, 17)\n",
      "(35, 41)\n"
     ]
    }
   ],
   "source": [
    "# FInding the position of Searched word in String\n",
    "\n",
    "import re\n",
    "\n",
    "str = 'We need to inform him about latest information'\n",
    "\n",
    "for i in re.finditer('inform',str):\n",
    "    loctup = i.span()\n",
    "    print(loctup)"
   ]
  },
  {
   "cell_type": "code",
   "execution_count": 16,
   "metadata": {},
   "outputs": [
    {
     "name": "stdout",
     "output_type": "stream",
     "text": [
      "Monday\n",
      "Tuesday\n",
      "Wednesday\n",
      "Thursday\n",
      "Friday\n",
      "Saturday\n",
      "Sunday\n"
     ]
    }
   ],
   "source": [
    "#Finding a Pattern word in String\n",
    "\n",
    "import re\n",
    "\n",
    "Poem = '''Monday Alone,\n",
    "          Tuesday Together,\n",
    "          Wednesday we Walk,\n",
    "          Thursday we laugh,\n",
    "          Friday we Pray,\n",
    "          Saturday just flies,\n",
    "          Sunday is best'''\n",
    "\n",
    "day = re.findall('[A-Z][a-z]*day',Poem)\n",
    "\n",
    "for d in day:\n",
    "    print(d)"
   ]
  },
  {
   "cell_type": "code",
   "execution_count": 17,
   "metadata": {},
   "outputs": [
    {
     "name": "stdout",
     "output_type": "stream",
     "text": [
      "Friday\n",
      "Saturday\n",
      "Sunday\n"
     ]
    }
   ],
   "source": [
    "# Finding all the word starting with Specific Character\n",
    "\n",
    "import re\n",
    "\n",
    "Poem = '''Monday Alone,\n",
    "          Tuesday Together,\n",
    "          Wednesday we Walk,\n",
    "          Thursday we laugh,\n",
    "          Friday we Pray,\n",
    "          Saturday just flies,\n",
    "          Sunday is best'''\n",
    "\n",
    "day = re.findall('[SF][a-z]*day',Poem)\n",
    "\n",
    "for d in day:\n",
    "    print(d)"
   ]
  },
  {
   "cell_type": "code",
   "execution_count": 27,
   "metadata": {},
   "outputs": [
    {
     "name": "stdout",
     "output_type": "stream",
     "text": [
      "Sat\n",
      "Pat\n"
     ]
    }
   ],
   "source": [
    "# Finding all the word not starting with Specific Character\n",
    "\n",
    "import re\n",
    "\n",
    "str = 'Sat, Hat, Mat, Pat'\n",
    "\n",
    "find = re.findall('[^H-M]at',str)\n",
    "\n",
    "for d in find:\n",
    "    print(d)"
   ]
  },
  {
   "cell_type": "code",
   "execution_count": 31,
   "metadata": {},
   "outputs": [
    {
     "name": "stdout",
     "output_type": "stream",
     "text": [
      "Sat, food, Mat, Pat\n"
     ]
    }
   ],
   "source": [
    "# Replace a word with other word\n",
    "\n",
    "import re\n",
    "\n",
    "str = 'Sat, Hat, Mat, Pat'\n",
    "\n",
    "regex = re.compile('[H]at')\n",
    "str = regex.sub('food',str)\n",
    "\n",
    "print(str)"
   ]
  },
  {
   "cell_type": "code",
   "execution_count": 35,
   "metadata": {},
   "outputs": [
    {
     "name": "stdout",
     "output_type": "stream",
     "text": [
      "Monday Alone,           Tuesday Together,           Wednesday we Walk,           Thursday we laugh,           Friday we Pray,           Saturday just flies,           Sunday is best\n"
     ]
    }
   ],
   "source": [
    "# Replace new line with space\n",
    "\n",
    "import re\n",
    "\n",
    "Poem = '''Monday Alone,\n",
    "          Tuesday Together,\n",
    "          Wednesday we Walk,\n",
    "          Thursday we laugh,\n",
    "          Friday we Pray,\n",
    "          Saturday just flies,\n",
    "          Sunday is best'''\n",
    "\n",
    "regex = re.compile('\\n')\n",
    "Poem = regex.sub(\" \",Poem)\n",
    "print(Poem)\n",
    "\n",
    "#Other Backslash we can work with\n",
    "#\\b : Backspace\n",
    "#\\f : FormFeed\n",
    "#\\r : Carriage retrun\n",
    "#\\t : Tab\n",
    "#\\v : Vertical Tab"
   ]
  },
  {
   "cell_type": "code",
   "execution_count": 45,
   "metadata": {},
   "outputs": [
    {
     "name": "stdout",
     "output_type": "stream",
     "text": [
      "Matches : 5\n",
      "Matches : 0\n"
     ]
    }
   ],
   "source": [
    "# Matching Number using RE\n",
    "import re\n",
    "\n",
    "num = '1 12 123 1234 12345 123456 1234567 12345678 123456789'\n",
    "\n",
    "print('Matches :',len(re.findall('\\d{5,7}',num)))\n",
    "\n",
    "print('Matches :',len(re.findall('\\D{5,7}',num)))"
   ]
  },
  {
   "cell_type": "code",
   "execution_count": 46,
   "metadata": {},
   "outputs": [
    {
     "name": "stdout",
     "output_type": "stream",
     "text": [
      "Its a valid Number\n"
     ]
    }
   ],
   "source": [
    "# Verifying a Phone Number\n",
    "\n",
    "import re\n",
    "\n",
    "phn = '412-555-1212'\n",
    "\n",
    "if re.search('\\d{3}-\\d{3}-\\d{3}', phn):\n",
    "    print('Its a valid Number')\n",
    "\n",
    "    \n",
    "# \\w - [a-zA-Z0-9_]\n",
    "# \\W - [^a-zA-Z0-9_]"
   ]
  },
  {
   "cell_type": "code",
   "execution_count": 50,
   "metadata": {},
   "outputs": [
    {
     "name": "stdout",
     "output_type": "stream",
     "text": [
      "Its a Valid Name\n"
     ]
    }
   ],
   "source": [
    "# Verifying a Full Name\n",
    "\n",
    "import re\n",
    "\n",
    "if re.search('\\w{2,20}\\s\\w{2,20}','Rishikesh Kumar'):\n",
    "    print('Its a Valid Name')\n",
    "    \n",
    "# \\s - [\\f\\n\\r\\t\\v]\n",
    "# \\S - [^\\f\\n\\r\\t\\v]"
   ]
  },
  {
   "cell_type": "code",
   "execution_count": 57,
   "metadata": {},
   "outputs": [
    {
     "name": "stdout",
     "output_type": "stream",
     "text": [
      "Its a valid Email ID\n"
     ]
    }
   ],
   "source": [
    "# Verifying a Email\n",
    "\n",
    "import re\n",
    "\n",
    "if re.search('[\\w._%+-]{1,20}@[\\w.-]{2,20}.[A-Za-z]{2,3}','ris22nov@gmail.com'):\n",
    "    print('Its a valid Email ID')"
   ]
  }
 ],
 "metadata": {
  "kernelspec": {
   "display_name": "Python 3",
   "language": "python",
   "name": "python3"
  },
  "language_info": {
   "codemirror_mode": {
    "name": "ipython",
    "version": 3
   },
   "file_extension": ".py",
   "mimetype": "text/x-python",
   "name": "python",
   "nbconvert_exporter": "python",
   "pygments_lexer": "ipython3",
   "version": "3.7.6"
  }
 },
 "nbformat": 4,
 "nbformat_minor": 4
}

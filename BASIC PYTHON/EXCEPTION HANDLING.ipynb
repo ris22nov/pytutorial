{
 "cells": [
  {
   "cell_type": "markdown",
   "metadata": {},
   "source": [
    "## EXCEPTION HANDLING"
   ]
  },
  {
   "cell_type": "markdown",
   "metadata": {},
   "source": [
    "### Why Need Exception Handling ?\n",
    "\n",
    "<b>Ans</b>: To Handle any error or exception in your program\n",
    "\n",
    "### What is Exception ?\n",
    "\n",
    "<b>Ans</b>:An Exception is event, which occurs during the execution of program, that disrupts the normal flow of program instruction\n",
    "\n",
    "### What is Exception Handling ?\n",
    "\n",
    "<b>Ans</b>: Process of responding to the occurence, during computation, of exceptional condition requiring special processing - often change the normal flow of program execution"
   ]
  },
  {
   "cell_type": "markdown",
   "metadata": {},
   "source": [
    "### Process of Exception Handling\n",
    "\n",
    "<b>Try</b> : Keyword used to keep the code segment under check  \n",
    "<b>except</b> : Segment to handle exception after catching it  \n",
    "<b>else</b> : Run this when no exception exists  \n",
    "<b>finally</b> : No matter what this code will definitely run  "
   ]
  },
  {
   "cell_type": "code",
   "execution_count": 9,
   "metadata": {},
   "outputs": [
    {
     "ename": "Exception",
     "evalue": "x Should not exceed 5. The Value of x was 10",
     "output_type": "error",
     "traceback": [
      "\u001b[1;31m---------------------------------------------------------------------------\u001b[0m",
      "\u001b[1;31mException\u001b[0m                                 Traceback (most recent call last)",
      "\u001b[1;32m<ipython-input-9-a8c07c184820>\u001b[0m in \u001b[0;36m<module>\u001b[1;34m\u001b[0m\n\u001b[0;32m      3\u001b[0m \u001b[0mx\u001b[0m \u001b[1;33m=\u001b[0m \u001b[1;36m10\u001b[0m\u001b[1;33m\u001b[0m\u001b[1;33m\u001b[0m\u001b[0m\n\u001b[0;32m      4\u001b[0m \u001b[1;32mif\u001b[0m \u001b[0mx\u001b[0m \u001b[1;33m>\u001b[0m \u001b[1;36m5\u001b[0m\u001b[1;33m:\u001b[0m\u001b[1;33m\u001b[0m\u001b[1;33m\u001b[0m\u001b[0m\n\u001b[1;32m----> 5\u001b[1;33m     \u001b[1;32mraise\u001b[0m \u001b[0mException\u001b[0m\u001b[1;33m(\u001b[0m\u001b[1;34mf'x Should not exceed 5. The Value of x was {x}'\u001b[0m\u001b[1;33m)\u001b[0m\u001b[1;33m\u001b[0m\u001b[1;33m\u001b[0m\u001b[0m\n\u001b[0m",
      "\u001b[1;31mException\u001b[0m: x Should not exceed 5. The Value of x was 10"
     ]
    }
   ],
   "source": [
    "# Raise Exception - Here we can raise to throw an exception if a condition occurs\n",
    "\n",
    "x = 10\n",
    "if x > 5:\n",
    "    raise Exception(f'x Should not exceed 5. The Value of x was {x}')"
   ]
  },
  {
   "cell_type": "code",
   "execution_count": 10,
   "metadata": {},
   "outputs": [
    {
     "ename": "AssertionError",
     "evalue": "This code run on linux only",
     "output_type": "error",
     "traceback": [
      "\u001b[1;31m---------------------------------------------------------------------------\u001b[0m",
      "\u001b[1;31mAssertionError\u001b[0m                            Traceback (most recent call last)",
      "\u001b[1;32m<ipython-input-10-c7f6b44c98dd>\u001b[0m in \u001b[0;36m<module>\u001b[1;34m\u001b[0m\n\u001b[0;32m      2\u001b[0m \u001b[1;33m\u001b[0m\u001b[0m\n\u001b[0;32m      3\u001b[0m \u001b[1;32mimport\u001b[0m \u001b[0msys\u001b[0m\u001b[1;33m\u001b[0m\u001b[1;33m\u001b[0m\u001b[0m\n\u001b[1;32m----> 4\u001b[1;33m \u001b[1;32massert\u001b[0m\u001b[1;33m(\u001b[0m\u001b[1;34m'linux'\u001b[0m \u001b[1;32min\u001b[0m \u001b[0msys\u001b[0m\u001b[1;33m.\u001b[0m\u001b[0mplatform\u001b[0m\u001b[1;33m)\u001b[0m\u001b[1;33m,\u001b[0m\u001b[1;34m'This code run on linux only'\u001b[0m\u001b[1;33m\u001b[0m\u001b[1;33m\u001b[0m\u001b[0m\n\u001b[0m",
      "\u001b[1;31mAssertionError\u001b[0m: This code run on linux only"
     ]
    }
   ],
   "source": [
    "# Assert - instead of program getting crash with some error you can make assertion and throw a error\n",
    "\n",
    "import sys\n",
    "assert('linux' in sys.platform),'This code run on linux only'"
   ]
  },
  {
   "cell_type": "markdown",
   "metadata": {},
   "source": [
    "#### Difference between Raise and Assert\n",
    "\n",
    "Raise is typically used when you have detected an error condition.  \n",
    "Assert is similar but the exception is only raised if a condition is met"
   ]
  },
  {
   "cell_type": "code",
   "execution_count": 11,
   "metadata": {},
   "outputs": [
    {
     "name": "stdout",
     "output_type": "stream",
     "text": [
      "This code run on linux only\n",
      "Linux linux_interaction() function was not executed\n"
     ]
    }
   ],
   "source": [
    "# Try and Catch Block - This used to catch and handle exceptions\n",
    "def linux_interaction():\n",
    "    assert('linux' in sys.platform),'This code run on linux only'\n",
    "    \n",
    "try:\n",
    "    linux_interaction()\n",
    "    with open('file.log') as file:\n",
    "        read_data = file.read()\n",
    "except FileNotFoundError as fnf_error:\n",
    "    print(fnf_error)\n",
    "except AssertionError as error:\n",
    "    print(error)\n",
    "    print('Linux linux_interaction() function was not executed')"
   ]
  },
  {
   "cell_type": "code",
   "execution_count": 12,
   "metadata": {},
   "outputs": [
    {
     "name": "stdout",
     "output_type": "stream",
     "text": [
      "[Errno 2] No such file or directory: 'file.log'\n"
     ]
    }
   ],
   "source": [
    "try:\n",
    "    with open('file.log') as file:\n",
    "        read_data = file.read()\n",
    "except FileNotFoundError as fnf_error:\n",
    "    print(fnf_error)\n",
    "except AssertionError as error:\n",
    "    print(error)\n",
    "    print('Linux linux_interaction() function was not executed')"
   ]
  },
  {
   "cell_type": "markdown",
   "metadata": {},
   "source": [
    "### Important Key Takeaways\n",
    "\n",
    "1. A Try clause is executed up untill the point where the first exception is encountered\n",
    "2. Inside that except block,you determine how the program respond to exception\n",
    "3. You can anticipate different exception and differentiate how the program respond to this\n",
    "4. Avoid using bare except"
   ]
  },
  {
   "cell_type": "code",
   "execution_count": 13,
   "metadata": {},
   "outputs": [
    {
     "name": "stdout",
     "output_type": "stream",
     "text": [
      "[Errno 2] No such file or directory: 'file.log'\n"
     ]
    }
   ],
   "source": [
    "# Else Block is used to run if no exception is encountered (We can also put new try except block in else)\n",
    "\n",
    "try:\n",
    "    with open('file.log') as file:\n",
    "        read_data = file.read()\n",
    "except FileNotFoundError as fnf_error:\n",
    "    print(fnf_error)\n",
    "else:\n",
    "    print('File Opened')"
   ]
  },
  {
   "cell_type": "code",
   "execution_count": 14,
   "metadata": {},
   "outputs": [
    {
     "name": "stdout",
     "output_type": "stream",
     "text": [
      "[Errno 2] No such file or directory: 'file.log'\n",
      "Program come to end\n"
     ]
    }
   ],
   "source": [
    "# Finally Block is used to run no matter what happen earlier\n",
    "\n",
    "try:\n",
    "    with open('file.log') as file:\n",
    "        read_data = file.read()\n",
    "except FileNotFoundError as fnf_error:\n",
    "    print(fnf_error)\n",
    "else:\n",
    "    print('File Opened')\n",
    "finally:\n",
    "    print('Program come to end')"
   ]
  },
  {
   "cell_type": "markdown",
   "metadata": {},
   "source": [
    "### Final Words on Exception Handling\n",
    "\n",
    "1. Raise - Allows you to throw exception at any time\n",
    "2. Assert - Enable us to verify if certain condition is met if not throw a exception\n",
    "3. Try - All statement is executed until exception is encountered\n",
    "4. Except - It is use to handle exception occured in Try Block\n",
    "5. Else - If Try block throws no exception then else block is executed\n",
    "6. Finally - This block of code will execute whatever happens in top portion"
   ]
  }
 ],
 "metadata": {
  "kernelspec": {
   "display_name": "Python 3",
   "language": "python",
   "name": "python3"
  },
  "language_info": {
   "codemirror_mode": {
    "name": "ipython",
    "version": 3
   },
   "file_extension": ".py",
   "mimetype": "text/x-python",
   "name": "python",
   "nbconvert_exporter": "python",
   "pygments_lexer": "ipython3",
   "version": "3.7.6"
  }
 },
 "nbformat": 4,
 "nbformat_minor": 4
}

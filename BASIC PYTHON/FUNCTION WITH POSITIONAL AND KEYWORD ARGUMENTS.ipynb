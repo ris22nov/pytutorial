{
 "cells": [
  {
   "cell_type": "markdown",
   "metadata": {},
   "source": [
    "### FUNCTION WITH POSITIONAL AND KEYWORD ARGUMENTS\n",
    "\n",
    "1.<b>Positional Argument</b> - An argument is a variable, value or object passed to a function or method as input. Positional arguments are arguments that need to be included in the proper position or order.Positional arguments can also be passed to functions using an iterable object. Examples of iterable objects in Python include lists and tuples. The general syntax to use is:<br>\n",
    "<b>function(*iterable)</b>\n",
    "\n",
    "\n",
    "2.<b>Keyword Argument</b> - A keyword argument is an argument passed to a function or method which is preceded by a keyword and an equals sign. The general form is:<br>\n",
    "<b>function(keyword=value)</b><br>\n",
    "Keyword arguments can also be passed to functions using a Python dictionary. The dictionary must contain the keywords as keys and the values as values. The general form is:<br>\n",
    "<b>keyword_dict = {'keyword1': value1, 'keyword2': value2}</b><br>\n",
    "<b>function(**keyword_dict)</b>\n"
   ]
  },
  {
   "cell_type": "code",
   "execution_count": 2,
   "metadata": {},
   "outputs": [],
   "source": [
    "def func(*args,**kwargs):\n",
    "    print(args)\n",
    "    print(kwargs)"
   ]
  },
  {
   "cell_type": "code",
   "execution_count": 4,
   "metadata": {},
   "outputs": [
    {
     "name": "stdout",
     "output_type": "stream",
     "text": [
      "(['Rishi', 'Singh'], {'age': 31, 'dob': 1988})\n",
      "{}\n",
      "('Rishi', 'Singh')\n",
      "{'age': 31, 'dob': 1988}\n"
     ]
    }
   ],
   "source": [
    "lst = ['Rishi','Singh']\n",
    "dic = {'age':31,'dob':1988}\n",
    "\n",
    "func(lst,dic)\n",
    "func(*lst,**dic)"
   ]
  },
  {
   "cell_type": "code",
   "execution_count": 5,
   "metadata": {},
   "outputs": [],
   "source": [
    "# Function Returning Muliple Variables\n",
    "\n",
    "def evenodd(lst):\n",
    "    even = []\n",
    "    odd = []\n",
    "    for num in lst:\n",
    "        if num%2==0:\n",
    "            even.append(num)\n",
    "        else:\n",
    "            odd.append(num)\n",
    "            \n",
    "    return even,odd"
   ]
  },
  {
   "cell_type": "code",
   "execution_count": 6,
   "metadata": {},
   "outputs": [
    {
     "data": {
      "text/plain": [
       "([2, 4, 6, 8], [1, 3, 5, 7, 9])"
      ]
     },
     "execution_count": 6,
     "metadata": {},
     "output_type": "execute_result"
    }
   ],
   "source": [
    "lst = [1,2,3,4,5,6,7,8,9]\n",
    "\n",
    "evenodd(lst)"
   ]
  },
  {
   "cell_type": "code",
   "execution_count": null,
   "metadata": {},
   "outputs": [],
   "source": []
  }
 ],
 "metadata": {
  "kernelspec": {
   "display_name": "Python 3",
   "language": "python",
   "name": "python3"
  },
  "language_info": {
   "codemirror_mode": {
    "name": "ipython",
    "version": 3
   },
   "file_extension": ".py",
   "mimetype": "text/x-python",
   "name": "python",
   "nbconvert_exporter": "python",
   "pygments_lexer": "ipython3",
   "version": "3.7.6"
  }
 },
 "nbformat": 4,
 "nbformat_minor": 4
}

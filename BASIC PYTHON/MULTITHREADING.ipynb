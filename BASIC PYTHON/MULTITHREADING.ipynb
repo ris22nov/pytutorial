{
 "cells": [
  {
   "cell_type": "markdown",
   "metadata": {},
   "source": [
    "# MultiThreading"
   ]
  },
  {
   "cell_type": "markdown",
   "metadata": {},
   "source": [
    "### What is Multitasking in Python?\n",
    "\n",
    "Ans : Multitasking is an ability of computer to perform various task at same time\n",
    "\n",
    "#### TYPES OF MULTITASKING\n",
    "\n",
    "1. Process Based - Multiple thread running on same OS simultaneously.\n",
    "\n",
    "2. Thread Based - Single process consisting of various task.\n",
    "\n",
    "### What is a Thread?\n",
    "\n",
    "Ans: A thread is execution of different task in a same program\n",
    "\n",
    "### Where to use Multithreading in Python?\n",
    "\n",
    "Ans: Where Multiple task to be achieved which are not dependent on the other task"
   ]
  },
  {
   "cell_type": "code",
   "execution_count": 9,
   "metadata": {},
   "outputs": [],
   "source": [
    "# conda install -c conda-forge tbb\n",
    "\n",
    "from threading import *"
   ]
  },
  {
   "cell_type": "code",
   "execution_count": 14,
   "metadata": {},
   "outputs": [
    {
     "name": "stdout",
     "output_type": "stream",
     "text": [
      "MainThread\n",
      "Child Executing... Thread-10\n",
      "Child Executing... Thread-10\n",
      "Child Executing... Thread-10\n",
      "Child Executing... Thread-10\n",
      "Child Executing... Thread-10\n",
      "Child Executing... Thread-10\n",
      "Bye MainThread\n"
     ]
    }
   ],
   "source": [
    "# Thread Without Creating a Class\n",
    "\n",
    "def new():\n",
    "    for x in range(6):\n",
    "        print('Child Executing...',threading.current_thread().getName())\n",
    "\n",
    "print(threading.current_thread().getName())        \n",
    "t1 = Thread(target = new)\n",
    "t1.start()\n",
    "t1.join()                                                   # Join Use to wait for a thread to finish then run the next thread\n",
    "print('Bye',threading.current_thread().getName())\n"
   ]
  },
  {
   "cell_type": "code",
   "execution_count": 2,
   "metadata": {},
   "outputs": [
    {
     "name": "stdout",
     "output_type": "stream",
     "text": [
      "Child Executing... Thread-6\n",
      "Child Executing... Thread-6\n",
      "Child Executing... Thread-6\n",
      "Child Executing... Thread-6\n",
      "Child Executing... Thread-6\n",
      "Child Executing... Thread-6\n",
      "Child Executing... Thread-6\n",
      "Bye MainThread\n"
     ]
    }
   ],
   "source": [
    "# Thread By Extending the Thread Class\n",
    "# By Extending the thread class we can only overwrite run or init Method\n",
    "\n",
    "from threading import *\n",
    "\n",
    "class MyThread(Thread):\n",
    "    def run(self):\n",
    "        for x in range(7):\n",
    "            print('Child Executing...',current_thread().getName())\n",
    "            \n",
    "thobj = MyThread()\n",
    "thobj.start()\n",
    "thobj.join()\n",
    "print('Bye',current_thread().getName())"
   ]
  },
  {
   "cell_type": "code",
   "execution_count": 3,
   "metadata": {},
   "outputs": [
    {
     "name": "stdout",
     "output_type": "stream",
     "text": [
      "calculate square numberscalculate cube of numbers\n",
      "\n",
      "cube:square: 8 4\n",
      "\n",
      "square: 9\n",
      "cube: 27\n",
      "square: 64\n",
      "cube: 512\n",
      "square: 81\n",
      "cube: 729\n",
      "done in :  4.010273456573486\n",
      "Hah... I am done with all my work now!\n"
     ]
    }
   ],
   "source": [
    "# With Multithreading\n",
    "\n",
    "import time\n",
    "import threading\n",
    "\n",
    "def calc_square(numbers):\n",
    "    print(\"calculate square numbers\")\n",
    "    for n in numbers:\n",
    "        time.sleep(1)\n",
    "        print('square:',n*n)\n",
    "\n",
    "def calc_cube(numbers):\n",
    "    print(\"calculate cube of numbers\")\n",
    "    for n in numbers:\n",
    "        time.sleep(1)\n",
    "        print('cube:',n*n*n)\n",
    "\n",
    "arr = [2,3,8,9]\n",
    "\n",
    "t = time.time()\n",
    "\n",
    "t1= threading.Thread(target=calc_square, args=(arr,))\n",
    "t2= threading.Thread(target=calc_cube, args=(arr,))\n",
    "\n",
    "t1.start()\n",
    "t2.start()\n",
    "\n",
    "t1.join()\n",
    "t2.join()\n",
    "\n",
    "print(\"done in : \",time.time()-t)\n",
    "print(\"Hah... I am done with all my work now!\")"
   ]
  },
  {
   "cell_type": "code",
   "execution_count": 4,
   "metadata": {},
   "outputs": [
    {
     "name": "stdout",
     "output_type": "stream",
     "text": [
      "calculate square numbers\n",
      "square: 4\n",
      "square: 9\n",
      "square: 64\n",
      "square: 81\n",
      "calculate cube of numbers\n",
      "cube: 8\n",
      "cube: 27\n",
      "cube: 512\n",
      "cube: 729\n",
      "done in :  8.00591254234314\n",
      "Hah... I am done with all my work now!\n"
     ]
    }
   ],
   "source": [
    "# Without Multithreading\n",
    "\n",
    "import time\n",
    "import threading\n",
    "\n",
    "def calc_square(numbers):\n",
    "    print(\"calculate square numbers\")\n",
    "    for n in numbers:\n",
    "        time.sleep(1)\n",
    "        print('square:',n*n)\n",
    "\n",
    "def calc_cube(numbers):\n",
    "    print(\"calculate cube of numbers\")\n",
    "    for n in numbers:\n",
    "        time.sleep(1)\n",
    "        print('cube:',n*n*n)\n",
    "\n",
    "arr = [2,3,8,9]\n",
    "\n",
    "t = time.time()\n",
    "\n",
    "calc_square(arr)\n",
    "calc_cube(arr)\n",
    "\n",
    "print(\"done in : \",time.time()-t)\n",
    "print(\"Hah... I am done with all my work now!\")"
   ]
  }
 ],
 "metadata": {
  "kernelspec": {
   "display_name": "Python 3",
   "language": "python",
   "name": "python3"
  },
  "language_info": {
   "codemirror_mode": {
    "name": "ipython",
    "version": 3
   },
   "file_extension": ".py",
   "mimetype": "text/x-python",
   "name": "python",
   "nbconvert_exporter": "python",
   "pygments_lexer": "ipython3",
   "version": "3.7.6"
  }
 },
 "nbformat": 4,
 "nbformat_minor": 4
}

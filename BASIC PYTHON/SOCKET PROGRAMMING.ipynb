{
 "cells": [
  {
   "cell_type": "markdown",
   "metadata": {},
   "source": [
    "### What are Sockets?\n",
    "\n",
    "Ans: Sockets are interior endpoint built for sending and recieving data. A Single network will have two sockets. Sockets are a combination of an IP address and a Port\n",
    "\n",
    "|Protocol|Port Number|Python Library|Function|\n",
    "|--------|-----------|--------------|--------|\n",
    "| HTTP | 80 | httplib,urllib,xmlrpclib | Web Pages|\n",
    "| FTP | 20 | ftplib,urllib | File Transfer |\n",
    "| NNTP | 119 | nntplib | Usenet News |\n",
    "| SMTP | 25 | smtplib | Sending Emails |\n",
    "| Telnet | 23 | telnetlib | Command Lines |\n",
    "| POP3 | 110 | poplib | Fetching Emails |\n",
    "| Gopher | 70 | gopherlib | Document Transfer |\n",
    "\n",
    "\n",
    "### How to achieve Socket Programming in Python?\n",
    "\n",
    "Ans: Import the Socket Module or Framework. This module consist of built in methods that are required for creating a sockets and help them associate with each other.\n",
    "\n",
    "|Method|Description|\n",
    "|--------|-----------|\n",
    "|socket.socket()|Used to create sockets(Require on both server and client side to create socket|\n",
    "|socket.accept()|Used to accept a connection.It returns a pair of values(Conn,Addr)|\n",
    "|socket.bind()|Used to bind to the address specified as parameter\n",
    "|socket.close()|Used to mark the socket as closed|\n",
    "|socket.connect()|Used to connect to remote address specified as the parameter|\n",
    "|socket.listen()|Places the socket in listening mode|\n",
    "\n",
    "### What is a Server ?\n",
    "\n",
    "Ans: Either a program,a computer or a device devoted to managaing a network resource is called a server, can be on the same device or computer or local or even remote\n",
    "\n",
    "### What is a Client?\n",
    "\n",
    "Ans: Computer or software that recieves information or services after request is client.The best example is web Browser.\n",
    "\n"
   ]
  },
  {
   "cell_type": "code",
   "execution_count": null,
   "metadata": {},
   "outputs": [],
   "source": [
    "import socket\n",
    "s = socket.socket(socket.AF_INET,socket.SOCK_STREAM)\n",
    "s.bind((socket.gethostname(),1024))\n",
    "s.listen(5)\n",
    "while True:\n",
    "    clt,adr = s.accept()\n",
    "    print(f'Connection to {adr} is established')\n",
    "    clt.send(bytes('Socket Programming in Python','utf-8'))"
   ]
  },
  {
   "cell_type": "code",
   "execution_count": null,
   "metadata": {},
   "outputs": [],
   "source": [
    "import socket\n",
    "s = socket.socket(socket.AF_INET,socket.SOCK_STREAM)\n",
    "s.bind((socket.gethostname(),1024))\n",
    "msg = s.recv(1024)\n",
    "print(msg.decode('utf-8'))"
   ]
  },
  {
   "cell_type": "code",
   "execution_count": 6,
   "metadata": {},
   "outputs": [
    {
     "name": "stdout",
     "output_type": "stream",
     "text": [
      "Socket successfully created\n",
      "the socket has successfully connected to google on port 172.217.163.196\n"
     ]
    }
   ],
   "source": [
    "# An example script to connect to Google using socket \n",
    "# programming in Python \n",
    "import socket # for socket \n",
    "import sys \n",
    "\n",
    "try: \n",
    "    s = socket.socket(socket.AF_INET, socket.SOCK_STREAM) \n",
    "    print ('Socket successfully created')\n",
    "except socket.error as err: \n",
    "    print (f'socket creation failed with error {err}')\n",
    "\n",
    "# default port for socket \n",
    "port = 80\n",
    "\n",
    "try: \n",
    "    host_ip = socket.gethostbyname('www.google.com') \n",
    "except socket.gaierror: \n",
    "    # this means could not resolve the host \n",
    "    print ('there was an error resolving the host')\n",
    "    sys.exit() \n",
    "\n",
    "# connecting to the server \n",
    "s.connect((host_ip, port)) \n",
    "\n",
    "print (f'the socket has successfully connected to google on port {host_ip}') \n"
   ]
  },
  {
   "cell_type": "code",
   "execution_count": null,
   "metadata": {},
   "outputs": [],
   "source": []
  }
 ],
 "metadata": {
  "kernelspec": {
   "display_name": "Python 3",
   "language": "python",
   "name": "python3"
  },
  "language_info": {
   "codemirror_mode": {
    "name": "ipython",
    "version": 3
   },
   "file_extension": ".py",
   "mimetype": "text/x-python",
   "name": "python",
   "nbconvert_exporter": "python",
   "pygments_lexer": "ipython3",
   "version": "3.7.6"
  }
 },
 "nbformat": 4,
 "nbformat_minor": 4
}

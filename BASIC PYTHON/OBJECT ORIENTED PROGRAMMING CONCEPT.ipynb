{
 "cells": [
  {
   "cell_type": "markdown",
   "metadata": {},
   "source": [
    "## Object Oriented Programming Structure"
   ]
  },
  {
   "cell_type": "markdown",
   "metadata": {},
   "source": [
    "#### Class : Class is the blueprint from which specific objects are created\n",
    "\n",
    "\n",
    "Class Variable - A Variable that is shared by all instance of class\n",
    "\n",
    "Instance Variable - These Variable are unique to each instance\n",
    "\n",
    "Data Member - A Class or Instance variable that holds data associated with class and its objects"
   ]
  },
  {
   "cell_type": "code",
   "execution_count": 18,
   "metadata": {},
   "outputs": [],
   "source": [
    "class Car:\n",
    "    def __init__(self,modelName,year,price):\n",
    "        self.modelName = modelName\n",
    "        self.year = year\n",
    "        self.price = price\n",
    "        \n",
    "    def price_inc(self):\n",
    "        self.price = self.price*1.15"
   ]
  },
  {
   "cell_type": "code",
   "execution_count": 19,
   "metadata": {},
   "outputs": [],
   "source": [
    "honda = Car('City',2017,1000000)\n",
    "tata = Car('Bolt',2016,60000)"
   ]
  },
  {
   "cell_type": "code",
   "execution_count": 20,
   "metadata": {},
   "outputs": [
    {
     "data": {
      "text/plain": [
       "1000000"
      ]
     },
     "execution_count": 20,
     "metadata": {},
     "output_type": "execute_result"
    }
   ],
   "source": [
    "honda.price"
   ]
  },
  {
   "cell_type": "code",
   "execution_count": 21,
   "metadata": {},
   "outputs": [
    {
     "name": "stdout",
     "output_type": "stream",
     "text": [
      "{'modelName': 'City', 'year': 2017, 'price': 1000000, 'cc': 1000}\n",
      "{'modelName': 'Bolt', 'year': 2016, 'price': 60000}\n"
     ]
    }
   ],
   "source": [
    "honda.cc = 1000\n",
    "print(honda.__dict__)\n",
    "print(tata.__dict__)"
   ]
  },
  {
   "cell_type": "code",
   "execution_count": 22,
   "metadata": {},
   "outputs": [
    {
     "name": "stdout",
     "output_type": "stream",
     "text": [
      "1150000.0\n"
     ]
    }
   ],
   "source": [
    "honda.price_inc()\n",
    "print(honda.price)"
   ]
  },
  {
   "cell_type": "markdown",
   "metadata": {},
   "source": [
    "### OOPS CONCEPTS\n",
    "\n",
    "1. Inheritance - A Class can inherit attribute and behaviour methods from another class, called the superclass.A class which inherits from base class is called Subclass or Child Class\n",
    "\n",
    "\n",
    "2. Encapsulation - Binding of data and code together as a single unit, securing data by hiding the implementation details to user\n",
    "\n",
    "\n",
    "3. Abstraction - Hides the implementation details and only provide the functionality to the user, You can achieve abstraction by using Abstract Class or Interface, Abstract class cannot be instantiated and it can only be inherited"
   ]
  },
  {
   "cell_type": "code",
   "execution_count": 30,
   "metadata": {},
   "outputs": [
    {
     "data": {
      "text/plain": [
       "1500"
      ]
     },
     "execution_count": 30,
     "metadata": {},
     "output_type": "execute_result"
    }
   ],
   "source": [
    "# Inheritance\n",
    "\n",
    "class SuperCar(Car):\n",
    "    def __init__(self,modelName,year,price,cc):\n",
    "        # Methods to call Init Function of Base Class\n",
    "        # super(SuperCar, self).__init__(modelName,year,price)\n",
    "        Car.__init__(self,modelName,year,price)\n",
    "        self.cc = cc\n",
    "\n",
    "honda = SuperCar('City',2017,1500000,1500)\n",
    "honda.cc"
   ]
  },
  {
   "cell_type": "code",
   "execution_count": 8,
   "metadata": {},
   "outputs": [
    {
     "name": "stdout",
     "output_type": "stream",
     "text": [
      "driving. maxspeed 200\n",
      "updating software\n",
      "driving. maxspeed 320\n",
      "driving. maxspeed 320\n"
     ]
    }
   ],
   "source": [
    "# Encapsulation\n",
    "# Private variable or function can be define using __ infront of variable name or function name\n",
    "\n",
    "class Car:\n",
    "\n",
    "    __maxspeed = 0\n",
    "    __name = \"\"\n",
    "    \n",
    "    def __init__(self):\n",
    "        self.__maxspeed = 200\n",
    "        self.__name = \"Supercar\"\n",
    "        \n",
    "    def __updateSoftware(self):\n",
    "        print('updating software')\n",
    "    \n",
    "    def drive(self):\n",
    "        print('driving. maxspeed ' + str(self.__maxspeed))\n",
    "\n",
    "    def setMaxSpeed(self,speed):\n",
    "        self.__updateSoftware()\n",
    "        self.__maxspeed = speed\n",
    "\n",
    "redcar = Car()\n",
    "#redcar.__updateSoftware()                                          # This Function can't be called outside class as its private\n",
    "redcar.drive()\n",
    "redcar.setMaxSpeed(320)\n",
    "redcar.drive()\n",
    "redcar.__maxspeed = 10                                              # We cant change private variable from outside of class\n",
    "redcar.drive()"
   ]
  },
  {
   "cell_type": "code",
   "execution_count": 14,
   "metadata": {},
   "outputs": [
    {
     "name": "stdout",
     "output_type": "stream",
     "text": [
      "Area of a rectangle: 15\n",
      "Area of a circle: 50.24\n"
     ]
    }
   ],
   "source": [
    "# Abstraction\n",
    "\n",
    "from abc import ABC\n",
    "class Shape(ABC): #abstract class\n",
    "    def calculate_area(self): #abstract methodpass\n",
    "        pass\n",
    "    \n",
    "class Rectangle(Shape):\n",
    "    length = 5\n",
    "    breadth = 3\n",
    "    def calculate_area(self):\n",
    "        return self.length * self.breadth\n",
    "\n",
    "class Circle(Shape):\n",
    "    radius = 4\n",
    "    def calculate_area(self):\n",
    "        return 3.14 * self.radius * self.radius\n",
    "\n",
    "rec = Rectangle()                                                                     # object created for the class 'Rectangle'\n",
    "cir = Circle()                                                                        # object created for the class 'Circle'\n",
    "\n",
    "print(\"Area of a rectangle:\", rec.calculate_area())       #call to 'calculate_area' method defined inside the class 'Rectangle'\n",
    "print(\"Area of a circle:\", cir.calculate_area())          #call to 'calculate_area' method defined inside the class 'Circle'."
   ]
  },
  {
   "cell_type": "code",
   "execution_count": null,
   "metadata": {},
   "outputs": [],
   "source": []
  }
 ],
 "metadata": {
  "kernelspec": {
   "display_name": "Python 3",
   "language": "python",
   "name": "python3"
  },
  "language_info": {
   "codemirror_mode": {
    "name": "ipython",
    "version": 3
   },
   "file_extension": ".py",
   "mimetype": "text/x-python",
   "name": "python",
   "nbconvert_exporter": "python",
   "pygments_lexer": "ipython3",
   "version": "3.7.6"
  }
 },
 "nbformat": 4,
 "nbformat_minor": 4
}
